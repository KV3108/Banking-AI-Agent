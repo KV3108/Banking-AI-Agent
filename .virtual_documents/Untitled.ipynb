#Fraud Detection Model, Customer Segmentation, Churn Prediction Model, Transaction Risk Scoring
import os
from pathlib import Path
project_name = 'AI Agent Banking'
list_of_files = [
    f"{project_name}/__init__.py",
    f"{project_name}/Fraud_Detection_Components/__init__.py",
    f"{project_name}/Fraud_Detection_Components/data_ingestion.py",
    f"{project_name}/Fraud_Detection_Components/data_validation.py",
    f"{project_name}/Fraud_Detection_Components/data_transformation.py",
    f"{project_name}/Fraud_Detection_Components/model_trainer.py",
    f"{project_name}/Fraud_Detection_Components/model_evaluation.py",
    f"{project_name}/Fraud_Detection_Components/model pusher.py",

    f"{project_name}/Customer_Segmentation_Components/__init__.py",
    f"{project_name}/Customer_Segmentation_Components/data_ingestion.py",
    f"{project_name}/Customer_Segmentation_Components/data_validation.py",
    f"{project_name}/Customer_Segmentation_Components/data_transformation.py",
    f"{project_name}/Customer_Segmentation_Components/model_trainer.py",
    f"{project_name}/Customer_Segmentation_Components/model_evaluation.py",
    f"{project_name}/Customer_Segmentation_Components/model pusher.py",

    f"{project_name}/Churn_Prediction_Components/__init__.py",
    f"{project_name}/Churn_Prediction_Components/data_ingestion.py",
    f"{project_name}/Churn_Prediction_Components/data_validation.py",
    f"{project_name}/Churn_Prediction_Components/data_transformation.py",
    f"{project_name}/Churn_Prediction_Components/model_trainer.py",
    f"{project_name}/Churn_Prediction_Components/model_evaluation.py",
    f"{project_name}/Churn_Prediction_Components/model pusher.py",

    f"{project_name}/Transaction_Risk_Components/__init__.py",
    f"{project_name}/Transaction_Risk_Components/data_ingestion.py",
    f"{project_name}/Transaction_Risk_Components/data_validation.py",
    f"{project_name}/Transaction_Risk_Components/data_transformation.py",
    f"{project_name}/Transaction_Risk_Components/model_trainer.py",
    f"{project_name}/Transaction_Risk_Components/model_evaluation.py",
    f"{project_name}/Transaction_Risk_Components/model pusher.py",

    f"{project_name}/AI_Agent_Integration/__init__.py",
    f"{project_name}/AI_Agent_Integration/perception.py",
    f"{project_name}/AI_Agent_Integration/processing_reasoning.py",
    f"{project_name}/AI_Agent_Integration/action.py",
    f"{project_name}/AI_Agent_Integration/learning_adaptation.py",

    f"{project_name}/Improving_AI_Agent/__init__.py",
    f"{project_name}/Improving_AI_Agent/real_time_data_ingestion.py",
    f"{project_name}/Improving_AI_Agent/DQN_model_training.py",
    f"{project_name}/Improving_AI_Agent/DQN_model_evaluation.py",
  
    f"{project_name}/Integrating_real_time_feedback_to_AI_Agent/__init__.py",
    f"{project_name}/Integrating_real_time_feedback_to_AI_Agent/feedback_loop.py",
    f"{project_name}/Integrating_real_time_feedback_to_AI_Agent/testing.py",

    f"{project_name}/Configuration/__init__.py",
    f"{project_name}/Constants/__init__.py",
    f"{project_name}/entity/__init__.py",
    f"{project_name}/entity/config_entity.py",
    f"{project_name}/entity/artifact_entity.py",
    f"{project_name}/exception/__init__.py",
    f"{project_name}/logger/__init__.py",

    f"{project_name}/pipeline/__init__.py",
    f"{project_name}/pipeline/training_pipeline.py",
    f"{project_name}/pipeline/prediction_pipeline.py",
    
    f"{project_name}/utils/__init__.py",
    f"{project_name}/utils/main_utils.py",

    f"{project_name}/model_monitoring/__init__.py",
    f"{project_name}/model_monitoring/log_performance.py",
    f"{project_name}/model_monitoring/detect_data_drift.py",
    f"{project_name}/model_monitoring/detect_model_drift.py",

    "app.py",
    "model_retraining.py",
    "requirements.txt",
    "Dockerfile",
    ".dockerignore",
    "demo.py",
    "setup.py",
    "config/model.yaml",
    "config/schema.yaml",
]



for filepath in list_of_files:
    filepath = Path(filepath)
    filedir, filename = os.path.split(filepath)
    if filedir != "":
        os.makedir(filedir, exist_ok=True)
    if (not os,path.exists(filepath)) or (os.path.getsize(filepath) == 0):
        with open(filepath, "w") as f:
            pass
    else:
        print(f"file is aslready present at: {filepath}")
    
    
    









